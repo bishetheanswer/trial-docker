{
 "cells": [
  {
   "cell_type": "code",
   "execution_count": 9,
   "metadata": {},
   "outputs": [],
   "source": [
    "from diagrams import Diagram, Cluster\n",
    "from diagrams.aws.compute import Lambda\n",
    "from diagrams.aws.storage import S3\n",
    "from diagrams.aws.database import DynamodbAttribute\n",
    "from diagrams.aws.database import DynamodbAttributes\n",
    "from diagrams.aws.database import Dynamodb\n",
    "from diagrams.aws.database import DynamodbGlobalSecondaryIndex\n",
    "from diagrams.aws.database import DynamodbItem\n",
    "from diagrams.aws.database import DynamodbItems\n",
    "from diagrams.aws.database import DynamodbTable\n",
    "from diagrams.generic.blank import Blank\n",
    "from diagrams.custom import Custom\n",
    "from diagrams.aws.management import SystemsManagerParameterStore\n",
    "from diagrams.aws.management import SSM\n"
   ]
  },
  {
   "cell_type": "code",
   "execution_count": null,
   "metadata": {},
   "outputs": [],
   "source": [
    "with Diagram(filename=\"primer_prototipo\", show=False):\n",
    "    with Cluster(\"DynamoDB\"):\n",
    "        authors_table = DynamodbTable(\"authors\")\n",
    "    (\n",
    "        Lambda(\"GetBooks\")\n",
    "        >> S3(\"authors-and-books\")\n",
    "        >> Lambda(\"InsertBooks\")\n",
    "        >> authors_table\n",
    "    )\n"
   ]
  },
  {
   "cell_type": "code",
   "execution_count": 10,
   "metadata": {},
   "outputs": [],
   "source": [
    "with Diagram(filename=\"segundo_prototipo\", show=False):\n",
    "    with Cluster(\"Get Books\"):\n",
    "        itbooks = Lambda(\"IT Books\")\n",
    "        nytimes = Lambda(\"NY Times\")\n",
    "    with Cluster(\"DynamoDB\"):\n",
    "        authors_table = DynamodbTable(\"authors\")\n",
    "\n",
    "    s3_bucket = S3(\"authors-and-books\")\n",
    "    api_token = SystemsManagerParameterStore(\"API Token\")\n",
    "    api_token - nytimes\n",
    "\n",
    "    itbooks >> s3_bucket\n",
    "    nytimes >> s3_bucket\n",
    "    s3_bucket >> Lambda(\"InsertBooks\") >> authors_table\n"
   ]
  },
  {
   "cell_type": "code",
   "execution_count": 16,
   "metadata": {},
   "outputs": [],
   "source": [
    "with Diagram(filename=\"tercer_prototipo\", show=False):\n",
    "    with Cluster(\"Prefect\"):\n",
    "        with Cluster(\"Get Books\"):\n",
    "            itbooks = Lambda(\"IT Books\")\n",
    "            nytimes = Lambda(\"NY Times\")\n",
    "\n",
    "        with Cluster(\"DynamoDB\"):\n",
    "            authors_table = DynamodbTable(\"authors\")\n",
    "\n",
    "        s3_bucket = S3(\"authors-and-books\")\n",
    "\n",
    "        itbooks >> s3_bucket\n",
    "        nytimes >> s3_bucket\n",
    "        s3_bucket >> Lambda(\"InsertBooks\") >> authors_table\n",
    "        # >> Lambda(\"InsertBooks\") >> Dynamodb() >> DynamodbTable(\"authors\")\n",
    "\n",
    "    api_token = SystemsManagerParameterStore(\"API Token\")\n",
    "    api_token - nytimes\n"
   ]
  },
  {
   "cell_type": "code",
   "execution_count": 17,
   "metadata": {},
   "outputs": [],
   "source": [
    "with Diagram(filename=\"cuarto_prototipo\", show=False):\n",
    "    with Cluster(\"Prefect\"):\n",
    "        with Cluster(\"API Books\"):\n",
    "            api = [Lambda(\"IT Books\"), Lambda(\"NY Times\")]\n",
    "\n",
    "        with Cluster(\"Biblioteca Books\"):\n",
    "            get_books = Lambda(\"Get Books\")\n",
    "            clean_books = Lambda(\"Clean Books\")\n",
    "            biblioteca = get_books >> clean_books\n",
    "\n",
    "        with Cluster(\"DynamoDB\"):\n",
    "            authors_table = DynamodbTable(\"authors\")\n",
    "\n",
    "        s3_bucket = S3(\"authors-and-books\")\n",
    "\n",
    "        api >> s3_bucket\n",
    "        biblioteca >> s3_bucket\n",
    "        s3_bucket >> Lambda(\"InsertBooks\") >> authors_table\n",
    "    # >> Lambda(\"InsertBooks\") >> Dynamodb() >> DynamodbTable(\"authors\")\n",
    "    api_token = SystemsManagerParameterStore(\"API Token\")\n",
    "    api_token - api[1]\n"
   ]
  },
  {
   "cell_type": "code",
   "execution_count": 13,
   "metadata": {},
   "outputs": [],
   "source": [
    "with Diagram(filename=\"quinto_prototipo\", show=False):\n",
    "    with Cluster(\"Prefect\"):\n",
    "        with Cluster(\"API Books\"):\n",
    "            api = [Lambda(\"IT Books\"), Lambda(\"NY Times\")]\n",
    "\n",
    "        with Cluster(\"Biblioteca Books\"):\n",
    "            get_books = Lambda(\"Get Books\")\n",
    "            clean_books = Lambda(\"Clean Books\")\n",
    "            biblioteca = get_books >> clean_books\n",
    "\n",
    "        with Cluster(\"DynamoDB\"):\n",
    "            authors_table = DynamodbTable(\"authors\")\n",
    "\n",
    "        s3_bucket = S3(\"authors-and-books\")\n",
    "        api_token - nytimes\n",
    "\n",
    "        api >> s3_bucket\n",
    "        biblioteca >> s3_bucket\n",
    "        s3_bucket >> Lambda(\"InsertBooks\") >> authors_table\n",
    "\n",
    "    with Cluster(\"DynamoDB Stream\"):\n",
    "        with Cluster(\"DynamoDB\"):\n",
    "            metadata_table = DynamodbTable(\"matadata\")\n",
    "\n",
    "        authors_table >> Lambda(\"UpdateMetadata\") >> metadata_table\n",
    "\n",
    "    api_token = SystemsManagerParameterStore(\"API Token\")\n",
    "    api_token - api[1]\n"
   ]
  }
 ],
 "metadata": {
  "kernelspec": {
   "display_name": "Python 3.9.13 ('tfm')",
   "language": "python",
   "name": "python3"
  },
  "language_info": {
   "codemirror_mode": {
    "name": "ipython",
    "version": 3
   },
   "file_extension": ".py",
   "mimetype": "text/x-python",
   "name": "python",
   "nbconvert_exporter": "python",
   "pygments_lexer": "ipython3",
   "version": "3.9.13"
  },
  "orig_nbformat": 4,
  "vscode": {
   "interpreter": {
    "hash": "13db4dd528affd078536932c2e17dd20ef6a9cd518531ae693e8e4fb859e4a68"
   }
  }
 },
 "nbformat": 4,
 "nbformat_minor": 2
}
