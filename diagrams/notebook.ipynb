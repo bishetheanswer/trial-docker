{
 "cells": [
  {
   "cell_type": "code",
   "execution_count": 32,
   "metadata": {},
   "outputs": [],
   "source": [
    "from diagrams import Diagram, Cluster\n",
    "from diagrams.aws.compute import Lambda\n",
    "from diagrams.aws.storage import S3\n",
    "from diagrams.aws.database import DynamodbAttribute\n",
    "from diagrams.aws.database import DynamodbAttributes\n",
    "from diagrams.aws.database import Dynamodb\n",
    "from diagrams.aws.database import DynamodbGlobalSecondaryIndex\n",
    "from diagrams.aws.database import DynamodbItem\n",
    "from diagrams.aws.database import DynamodbItems\n",
    "from diagrams.aws.database import DynamodbTable\n",
    "from diagrams.generic.blank import Blank\n",
    "from diagrams.custom import Custom\n",
    "\n",
    "\n",
    "\n",
    "with Diagram(\"Primer Prototipo\", show=False):\n",
    "    with Cluster(\"DynamoDB\"):\n",
    "        authors_table = DynamodbTable(\"authors\")\n",
    "    Lambda(\"GetBooks\") >> S3(\"authors-and-books\") >> Lambda(\"InsertBooks\") >> authors_table\n",
    "   "
   ]
  },
  {
   "cell_type": "code",
   "execution_count": 33,
   "metadata": {},
   "outputs": [],
   "source": [
    "\n",
    "with Diagram(\"Segundo Prototipo\", show=False):\n",
    "    with Cluster(\"Get Books\"):\n",
    "        itbooks = Lambda(\"IT Books\") \n",
    "        nytimes = Lambda(\"NY Times\") \n",
    "    \n",
    "    with Cluster(\"DynamoDB\"):\n",
    "        authors_table = DynamodbTable(\"authors\")\n",
    "    \n",
    "    s3_bucket = S3(\"authors-and-books\") \n",
    "\n",
    "    itbooks >> s3_bucket\n",
    "    nytimes >> s3_bucket\n",
    "    s3_bucket >> Lambda(\"InsertBooks\") >> authors_table    \n",
    "    # >> Lambda(\"InsertBooks\") >> Dynamodb() >> DynamodbTable(\"authors\")\n"
   ]
  },
  {
   "cell_type": "code",
   "execution_count": 34,
   "metadata": {},
   "outputs": [],
   "source": [
    "\n",
    "with Diagram(\"Tercer Prototipo\", show=False):\n",
    "    with Cluster(\"API Books\"):\n",
    "        api =[Lambda(\"IT Books\"), Lambda(\"NY Times\")] \n",
    "    \n",
    "    with Cluster(\"Biblioteca Books\"):\n",
    "        get_books = Lambda(\"Get Books\")\n",
    "        clean_books = Lambda(\"Clean Books\")\n",
    "        biblioteca = get_books >> clean_books\n",
    "    \n",
    "    with Cluster(\"DynamoDB\"):\n",
    "        authors_table = DynamodbTable(\"authors\")\n",
    "    \n",
    "\n",
    "    s3_bucket = S3(\"authors-and-books\") \n",
    "\n",
    "    api >> s3_bucket\n",
    "    biblioteca >> s3_bucket\n",
    "    s3_bucket >> Lambda(\"InsertBooks\") >> authors_table   \n",
    "    # >> Lambda(\"InsertBooks\") >> Dynamodb() >> DynamodbTable(\"authors\")\n"
   ]
  },
  {
   "cell_type": "code",
   "execution_count": 31,
   "metadata": {},
   "outputs": [],
   "source": [
    "\n",
    "with Diagram(\"Cuarto Prototipo\", show=False):\n",
    "    with Cluster(\"Get Books\"):\n",
    "        with Cluster(\"API Books\"):\n",
    "            api =[Lambda(\"IT Books\"), Lambda(\"NY Times\")] \n",
    "        \n",
    "        with Cluster(\"Biblioteca Books\"):\n",
    "            get_books = Lambda(\"Get Books\")\n",
    "            clean_books = Lambda(\"Clean Books\")\n",
    "            biblioteca = get_books >> clean_books\n",
    "    \n",
    "    with Cluster(\"DynamoDB\"):\n",
    "        # dynamo = Dynamodb()\n",
    "        authors_table = DynamodbTable(\"authors\")\n",
    "        metadata_table = DynamodbTable(\"metadata\")\n",
    "        # dynamo - authors_table\n",
    "        # dynamo - metadata_table\n",
    "\n",
    "\n",
    "\n",
    "    s3_bucket = S3(\"authors-and-books\") \n",
    "    update_metadata = Lambda(\"Update Table\")\n",
    "    api >> s3_bucket\n",
    "    biblioteca >> s3_bucket\n",
    "    s3_bucket >> Lambda(\"InsertBooks\") >> authors_table\n",
    "    authors_table >> update_metadata >> metadata_table\n",
    "    # >> Lambda(\"InsertBooks\") >> Dynamodb() >> DynamodbTable(\"authors\")\n"
   ]
  },
  {
   "cell_type": "code",
   "execution_count": null,
   "metadata": {},
   "outputs": [],
   "source": []
  }
 ],
 "metadata": {
  "kernelspec": {
   "display_name": "Python 3.9.13 ('tfm')",
   "language": "python",
   "name": "python3"
  },
  "language_info": {
   "codemirror_mode": {
    "name": "ipython",
    "version": 3
   },
   "file_extension": ".py",
   "mimetype": "text/x-python",
   "name": "python",
   "nbconvert_exporter": "python",
   "pygments_lexer": "ipython3",
   "version": "3.9.13"
  },
  "orig_nbformat": 4,
  "vscode": {
   "interpreter": {
    "hash": "13db4dd528affd078536932c2e17dd20ef6a9cd518531ae693e8e4fb859e4a68"
   }
  }
 },
 "nbformat": 4,
 "nbformat_minor": 2
}
