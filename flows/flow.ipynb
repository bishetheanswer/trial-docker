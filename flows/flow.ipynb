{
 "cells": [
  {
   "cell_type": "code",
   "execution_count": 5,
   "metadata": {},
   "outputs": [],
   "source": [
    "import prefect\n",
    "from prefect import task, Flow\n",
    "import json\n",
    "import boto3\n",
    "\n",
    "\n",
    "@task(name=\"GetBooksIt\")\n",
    "def get_books_itbooks():\n",
    "    lambda_client = boto3.client('lambda')\n",
    "\n",
    "    response = lambda_client.invoke(\n",
    "        FunctionName='trial-docker-dev-get-books-itbooks',\n",
    "        InvocationType='RequestResponse',\n",
    "    )\n",
    "    \n",
    "    assert response[\"StatusCode\"] < 300\n",
    "    \n",
    "    payload = json.loads(response['Payload'].read())\n",
    "    print(payload)\n",
    "    return payload\n",
    "\n",
    "@task(name='GetBooksNYTimes')\n",
    "def get_books_nytimes():\n",
    "    lambda_client = boto3.client('lambda')\n",
    "\n",
    "    response = lambda_client.invoke(\n",
    "        FunctionName='trial-docker-dev-get-books-nytimes',\n",
    "        InvocationType='RequestResponse'\n",
    "    )\n",
    "    \n",
    "    assert response[\"StatusCode\"] < 300\n",
    "\n",
    "    payload = json.loads(response['Payload'].read())\n",
    "    print(payload)\n",
    "    return payload\n",
    "    \n",
    "@task(name='InsertBooks')\n",
    "def insert_books(books, source):\n",
    "    lambda_client = boto3.client('lambda')\n",
    "\n",
    "    response = lambda_client.invoke(\n",
    "        FunctionName='trial-docker-dev-insert-book',\n",
    "        InvocationType='RequestResponse',\n",
    "        Payload = json.dumps({'source':source, 'books': books})\n",
    "        # Payload = f'{{\"books\":{json.dumps(books)}}}'\n",
    "    )\n",
    "    print('pepe')\n",
    "    assert response[\"StatusCode\"] < 300\n",
    "\n",
    "@task(name='UpdateTable')\n",
    "def update_stats_table():\n",
    "    lambda_client = boto3.client('lambda')\n",
    "\n",
    "    response = lambda_client.invoke(\n",
    "        FunctionName='trial-docker-dev-update-table',\n",
    "        InvocationType='RequestResponse',\n",
    "    )\n",
    "    \n",
    "    assert response[\"StatusCode\"] < 300\n",
    "\n",
    "with Flow('ETL') as flow:\n",
    "    it_books = get_books_itbooks()\n",
    "    nytimes_books = get_books_nytimes()\n",
    "\n",
    "    # insert_it_books = insert_books.map(it_books, upstream_tasks=[it_books])\n",
    "    # insert_nytimes_books = insert_books.map(nytimes_books, upstream_tasks=[nytimes_books])\n",
    "    insert_it_books = insert_books(it_books,source='itbooks-api', upstream_tasks=[it_books])\n",
    "    insert_nytimes_books = insert_books(nytimes_books, source='nytimes-api', upstream_tasks=[nytimes_books])\n",
    "    update_stats_table(upstream_tasks=[insert_it_books, insert_nytimes_books])\n",
    "\n",
    "\n",
    "# @task\n",
    "# def etl_bronze(bucket_name, prizes_path, laureates_path, aws_key, aws_secret, aws_token, aws_region):\n",
    "#     lambda_client = boto3.client('lambda', aws_access_key_id=aws_key, aws_secret_access_key=aws_secret, aws_session_token=aws_token, region_name=aws_region)\n",
    "#     response = lambda_client.invoke(\n",
    "#         FunctionName='bronzeETL',\n",
    "#         InvocationType='RequestResponse',\n",
    "#         Payload = f'{{\"bucketName\": \"{bucket_name}\", \"prizesPath\": \"{prizes_path}\", \"laureatePath\": \"{laureates_path}\"}}'\n",
    "#     )\n",
    "#     assert response[\"StatusCode\"] < 300\n",
    "\n",
    "# @task\n",
    "# def etl_silver(bronze_path, aws_key, aws_secret, aws_token, aws_region):    \n",
    "#     lambda_client = boto3.client('lambda', aws_access_key_id=aws_key, aws_secret_access_key=aws_secret, aws_session_token=aws_token, region_name=aws_region)\n",
    "#     response = lambda_client.invoke(\n",
    "#         FunctionName='silverETL',\n",
    "#         InvocationType='RequestResponse',\n",
    "#         Payload = f'{{\"bronzePath\": \"{bronze_path}\"}}'\n",
    "#     )\n",
    "#     assert response[\"StatusCode\"] < 300\n",
    "\n",
    "\n",
    "# with Flow('ETL') as flow:\n",
    "#     aws_key = Parameter(\"aws_access_key_id\")\n",
    "#     aws_secret = Parameter(\"aws_secret_access_key\")\n",
    "#     aws_token = Parameter(\"aws_session_token\")\n",
    "#     aws_region = Parameter(\"aws_region\")\n",
    "#     for category in ['che', 'eco', 'lit', 'pea', 'phy', 'med']:\n",
    "#         laureates = extract_nobel_prizes(category, aws_key, aws_secret, aws_token, aws_region)\n",
    "#         x1 = extract_laureate.map(laureates, unmapped(aws_key), unmapped(aws_secret), unmapped(aws_token), unmapped(aws_region), upstream_tasks=[laureates])\n",
    "#     x2 = etl_bronze(\"capstone-13\", \"s3://capstone-13/raw/nobelPrizes/\", \"s3://capstone-13/raw/laureates/\", aws_key, aws_secret, aws_token, aws_region, upstream_tasks=[x1])\n",
    "#     etl_silver(\"s3://capstone-13/bronze/bronze_laureates.parquet\", aws_key, aws_secret, aws_token, aws_region, upstream_tasks=[x2])\n"
   ]
  },
  {
   "cell_type": "code",
   "execution_count": 6,
   "metadata": {},
   "outputs": [
    {
     "data": {
      "image/svg+xml": "<?xml version=\"1.0\" encoding=\"UTF-8\" standalone=\"no\"?>\n<!DOCTYPE svg PUBLIC \"-//W3C//DTD SVG 1.1//EN\"\n \"http://www.w3.org/Graphics/SVG/1.1/DTD/svg11.dtd\">\n<!-- Generated by graphviz version 2.43.0 (0)\n -->\n<!-- Title: %3 Pages: 1 -->\n<svg width=\"358pt\" height=\"204pt\"\n viewBox=\"0.00 0.00 358.24 204.00\" xmlns=\"http://www.w3.org/2000/svg\" xmlns:xlink=\"http://www.w3.org/1999/xlink\">\n<g id=\"graph0\" class=\"graph\" transform=\"scale(1 1) rotate(0) translate(4 200)\">\n<title>%3</title>\n<polygon fill=\"white\" stroke=\"transparent\" points=\"-4,4 -4,-200 354.24,-200 354.24,4 -4,4\"/>\n<!-- 140339402474496 -->\n<g id=\"node1\" class=\"node\">\n<title>140339402474496</title>\n<ellipse fill=\"none\" stroke=\"black\" cx=\"244.84\" cy=\"-91\" rx=\"66.09\" ry=\"18\"/>\n<text text-anchor=\"middle\" x=\"244.84\" y=\"-87.3\" font-family=\"Times,serif\" font-size=\"14.00\">InsertBooks</text>\n</g>\n<!-- 140339402509136 -->\n<g id=\"node4\" class=\"node\">\n<title>140339402509136</title>\n<ellipse fill=\"none\" stroke=\"black\" cx=\"168.84\" cy=\"-18\" rx=\"69.59\" ry=\"18\"/>\n<text text-anchor=\"middle\" x=\"168.84\" y=\"-14.3\" font-family=\"Times,serif\" font-size=\"14.00\">UpdateTable</text>\n</g>\n<!-- 140339402474496&#45;&gt;140339402509136 -->\n<g id=\"edge1\" class=\"edge\">\n<title>140339402474496&#45;&gt;140339402509136</title>\n<path fill=\"none\" stroke=\"black\" d=\"M227.21,-73.53C217.41,-64.37 205.02,-52.8 194.19,-42.68\"/>\n<polygon fill=\"black\" stroke=\"black\" points=\"196.33,-39.89 186.64,-35.62 191.55,-45.01 196.33,-39.89\"/>\n</g>\n<!-- 140339402508464 -->\n<g id=\"node2\" class=\"node\">\n<title>140339402508464</title>\n<ellipse fill=\"none\" stroke=\"black\" cx=\"287.84\" cy=\"-178\" rx=\"62.29\" ry=\"18\"/>\n<text text-anchor=\"middle\" x=\"287.84\" y=\"-174.3\" font-family=\"Times,serif\" font-size=\"14.00\">GetBooksIt</text>\n</g>\n<!-- 140339402508464&#45;&gt;140339402474496 -->\n<g id=\"edge2\" class=\"edge\">\n<title>140339402508464&#45;&gt;140339402474496</title>\n<path fill=\"none\" stroke=\"black\" d=\"M257.67,-162.13C250.16,-156.87 243.05,-150.18 238.84,-142 235.23,-134.97 234.91,-126.67 236.02,-118.88\"/>\n<polygon fill=\"black\" stroke=\"black\" points=\"239.45,-119.58 238.13,-109.07 232.6,-118.11 239.45,-119.58\"/>\n<text text-anchor=\"middle\" x=\"259.84\" y=\"-130.8\" font-family=\"Times,serif\" font-size=\"14.00\">books</text>\n</g>\n<!-- 140339402508464&#45;&gt;140339402474496 -->\n<g id=\"edge5\" class=\"edge\">\n<title>140339402508464&#45;&gt;140339402474496</title>\n<path fill=\"none\" stroke=\"black\" d=\"M288.17,-159.97C287.72,-149.9 285.99,-137.16 280.84,-127 278.79,-122.95 276.09,-119.11 273.08,-115.55\"/>\n<polygon fill=\"black\" stroke=\"black\" points=\"275.57,-113.08 266.15,-108.24 270.49,-117.9 275.57,-113.08\"/>\n</g>\n<!-- 140339402474544 -->\n<g id=\"node3\" class=\"node\">\n<title>140339402474544</title>\n<ellipse fill=\"none\" stroke=\"black\" cx=\"96.84\" cy=\"-178\" rx=\"96.68\" ry=\"18\"/>\n<text text-anchor=\"middle\" x=\"96.84\" y=\"-174.3\" font-family=\"Times,serif\" font-size=\"14.00\">GetBooksNYTimes</text>\n</g>\n<!-- 140339402508176 -->\n<g id=\"node5\" class=\"node\">\n<title>140339402508176</title>\n<ellipse fill=\"none\" stroke=\"black\" cx=\"93.84\" cy=\"-91\" rx=\"66.09\" ry=\"18\"/>\n<text text-anchor=\"middle\" x=\"93.84\" y=\"-87.3\" font-family=\"Times,serif\" font-size=\"14.00\">InsertBooks</text>\n</g>\n<!-- 140339402474544&#45;&gt;140339402508176 -->\n<g id=\"edge4\" class=\"edge\">\n<title>140339402474544&#45;&gt;140339402508176</title>\n<path fill=\"none\" stroke=\"black\" d=\"M95.74,-159.92C95.4,-154.22 95.07,-147.84 94.84,-142 94.56,-134.66 94.35,-126.7 94.21,-119.34\"/>\n<polygon fill=\"black\" stroke=\"black\" points=\"97.7,-119.07 94.03,-109.13 90.7,-119.19 97.7,-119.07\"/>\n</g>\n<!-- 140339402474544&#45;&gt;140339402508176 -->\n<g id=\"edge6\" class=\"edge\">\n<title>140339402474544&#45;&gt;140339402508176</title>\n<path fill=\"none\" stroke=\"black\" d=\"M96.23,-159.8C95.82,-148.16 95.27,-132.55 94.8,-119.24\"/>\n<polygon fill=\"black\" stroke=\"black\" points=\"98.3,-119.05 94.45,-109.18 91.3,-119.29 98.3,-119.05\"/>\n<text text-anchor=\"middle\" x=\"116.84\" y=\"-130.8\" font-family=\"Times,serif\" font-size=\"14.00\">books</text>\n</g>\n<!-- 140339402508176&#45;&gt;140339402509136 -->\n<g id=\"edge3\" class=\"edge\">\n<title>140339402508176&#45;&gt;140339402509136</title>\n<path fill=\"none\" stroke=\"black\" d=\"M111.24,-73.53C120.92,-64.37 133.13,-52.8 143.82,-42.68\"/>\n<polygon fill=\"black\" stroke=\"black\" points=\"146.42,-45.04 151.28,-35.62 141.61,-39.96 146.42,-45.04\"/>\n</g>\n</g>\n</svg>\n",
      "text/plain": [
       "<graphviz.graphs.Digraph at 0x7fa350393460>"
      ]
     },
     "execution_count": 6,
     "metadata": {},
     "output_type": "execute_result"
    }
   ],
   "source": [
    "flow.visualize()"
   ]
  },
  {
   "cell_type": "code",
   "execution_count": 7,
   "metadata": {},
   "outputs": [
    {
     "name": "stdout",
     "output_type": "stream",
     "text": [
      "[2022-08-17 17:19:10+0200] INFO - prefect.FlowRunner | Beginning Flow run for 'ETL'\n",
      "[2022-08-17 17:19:10+0200] INFO - prefect.TaskRunner | Task 'GetBooksIt': Starting task run...\n",
      "['clean/Mark-Lewin/9781642002140.json', 'clean/Joachim-von-Braun/9783030541729.json', 'clean/-Margaret-S.-Archer/9783030541729.json', 'clean/-Gregory-M.-Reichberg/9783030541729.json', 'clean/-Marcelo-Sanchez-Sorondo/9783030541729.json', 'clean/Nikolaus-Correll/9781493773077.json', 'clean/Jon-Bodner/9781492077213.json', 'clean/Jonathan-A.-Poritz/1001656678502.json', 'clean/John-Lakos/9780137380350.json', 'clean/-Vittorio-Romeo/9780137380350.json', 'clean/-Rostislav-Khlebnikov/9780137380350.json', 'clean/-Alisdair-Meredith/9780137380350.json', 'clean/David-Crookes/1001656317756.json', 'clean/-PJ-Evans/1001656317756.json', 'clean/-Rosie-Hattersley/1001656317756.json', 'clean/-Nicola-King/1001656317756.json', 'clean/-Phil-King/1001656317756.json', 'clean/-KG-Orphanides/1001656317756.json', 'clean/-Mark-Vanstone/1001656317756.json', 'clean/Richard-Stallman/9780983159230.json', 'clean/-Roland-Pesch/9780983159230.json', 'clean/-Stan-Shebs/9780983159230.json', 'clean/Luis-G.-Serrano/9781617295911.json', 'clean/Marco-Vermeulen/9781617297168.json', 'clean/-Rúnar-Bjarnason/9781617297168.json', 'clean/-Paul-Chiusano/9781617297168.json', 'clean/John-Clingan/9781617298653.json', 'clean/-Ken-Finnigan/9781617298653.json', 'clean/Jike-Chong/9781617298899.json', 'clean/-Yue-Cathy-Chang/9781617298899.json', 'clean/Enrico-Buonanno/9781617299827.json', 'clean/Antonio-Liccardi/9781642002133.json', 'clean/Bill-Jelen/9780137559534.json', 'clean/Andrea-Allievi/9780135462409.json', 'clean/-Mark-E.-Russinovich/9780135462409.json', 'clean/-Alex-Ionescu/9780135462409.json', 'clean/-David-A.-Solomon/9780135462409.json', 'clean/Joe-Habraken/9780137564095.json', 'clean/Joan-Lambert/9780137564279.json', 'clean/-Curtis-Frye/9780137564279.json', 'clean/Wayne-Winston/9780137613663.json', 'clean/Mark-C.-Greenwood/1001651662833.json']\n",
      "[2022-08-17 17:19:21+0200] INFO - prefect.TaskRunner | Task 'GetBooksIt': Finished task run for task with final state: 'Success'\n",
      "[2022-08-17 17:19:21+0200] INFO - prefect.TaskRunner | Task 'GetBooksNYTimes': Starting task run...\n",
      "['clean/Debbie Macomber/9780553391862.json', 'clean/James Patterson and David Ellis/9781455589913.json', 'clean/J D Robb/9781101987995.json', 'clean/W Bruce Cameron/9780765388100.json', 'clean/Catherine Anderson/9780451488022.json', 'clean/Fern Michaels/9781420140651.json', 'clean/Jonathan Kellerman/9780345541420.json', 'clean/Paula Hawkins/9780735212169.json', 'clean/Steve Berry/9781250058454.json', 'clean/Diana Palmer/9780373789948.json', 'clean/James Rollins and Grant Blackwood/9780062135292.json', 'clean/Danielle Steel/9780425285398.json', 'clean/J A Jance/9781501110795.json', 'clean/Linda Howard/9780062418999.json', 'clean/Janet Evanovich/9780345542977.json']\n",
      "[2022-08-17 17:19:26+0200] INFO - prefect.TaskRunner | Task 'GetBooksNYTimes': Finished task run for task with final state: 'Success'\n",
      "[2022-08-17 17:19:26+0200] INFO - prefect.TaskRunner | Task 'InsertBooks': Starting task run...\n",
      "pepe\n",
      "[2022-08-17 17:19:27+0200] INFO - prefect.TaskRunner | Task 'InsertBooks': Finished task run for task with final state: 'Success'\n",
      "[2022-08-17 17:19:27+0200] INFO - prefect.TaskRunner | Task 'InsertBooks': Starting task run...\n",
      "pepe\n",
      "[2022-08-17 17:19:28+0200] INFO - prefect.TaskRunner | Task 'InsertBooks': Finished task run for task with final state: 'Success'\n",
      "[2022-08-17 17:19:28+0200] INFO - prefect.TaskRunner | Task 'UpdateTable': Starting task run...\n",
      "[2022-08-17 17:19:29+0200] INFO - prefect.TaskRunner | Task 'UpdateTable': Finished task run for task with final state: 'Success'\n",
      "[2022-08-17 17:19:29+0200] INFO - prefect.FlowRunner | Flow run SUCCESS: all reference tasks succeeded\n"
     ]
    },
    {
     "data": {
      "text/plain": [
       "<Success: \"All reference tasks succeeded.\">"
      ]
     },
     "execution_count": 7,
     "metadata": {},
     "output_type": "execute_result"
    }
   ],
   "source": [
    "flow.run()"
   ]
  },
  {
   "cell_type": "code",
   "execution_count": null,
   "metadata": {},
   "outputs": [],
   "source": []
  }
 ],
 "metadata": {
  "kernelspec": {
   "display_name": "Python 3.9.12 ('tfm-v2')",
   "language": "python",
   "name": "python3"
  },
  "language_info": {
   "codemirror_mode": {
    "name": "ipython",
    "version": 3
   },
   "file_extension": ".py",
   "mimetype": "text/x-python",
   "name": "python",
   "nbconvert_exporter": "python",
   "pygments_lexer": "ipython3",
   "version": "3.9.12"
  },
  "orig_nbformat": 4,
  "vscode": {
   "interpreter": {
    "hash": "4eb388abe86f614ffd3f52b695c8583cde5011c55e35362048b5639bb61cd93a"
   }
  }
 },
 "nbformat": 4,
 "nbformat_minor": 2
}
