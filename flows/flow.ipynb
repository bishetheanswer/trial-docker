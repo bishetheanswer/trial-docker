{
 "cells": [
  {
   "cell_type": "code",
   "execution_count": 2,
   "metadata": {},
   "outputs": [],
   "source": [
    "import prefect\n",
    "from prefect import task, Flow\n",
    "import json\n",
    "import boto3\n",
    "\n",
    "\n",
    "@task(name=\"GetBooksIt\")\n",
    "def get_books_itbooks():\n",
    "    lambda_client = boto3.client('lambda')\n",
    "\n",
    "    response = lambda_client.invoke(\n",
    "        FunctionName='trial-docker-dev-get-books-itbooks',\n",
    "        InvocationType='RequestResponse',\n",
    "    )\n",
    "    \n",
    "    assert response[\"StatusCode\"] < 300\n",
    "    \n",
    "    payload = json.loads(response['Payload'].read())\n",
    "    print(payload)\n",
    "    return payload\n",
    "\n",
    "@task(name='GetBooksNYTimes')\n",
    "def get_books_nytimes():\n",
    "    lambda_client = boto3.client('lambda')\n",
    "\n",
    "    response = lambda_client.invoke(\n",
    "        FunctionName='trial-docker-dev-get-books-nytimes',\n",
    "        InvocationType='RequestResponse'\n",
    "    )\n",
    "    \n",
    "    assert response[\"StatusCode\"] < 300\n",
    "\n",
    "    payload = json.loads(response['Payload'].read())\n",
    "    print(payload)\n",
    "    return payload\n",
    "    \n",
    "@task(name='InsertBooks')\n",
    "def insert_books(book):\n",
    "    lambda_client = boto3.client('lambda')\n",
    "\n",
    "    response = lambda_client.invoke(\n",
    "        FunctionName='trial-docker-dev-insert-book',\n",
    "        InvocationType='RequestResponse',\n",
    "        Payload = f'{{\"books\":\"pepe\"}}'\n",
    "    )\n",
    "    print('pepe')\n",
    "    assert response[\"StatusCode\"] < 300\n",
    "\n",
    "@task(name='UpdateTable')\n",
    "def update_stats_table():\n",
    "    lambda_client = boto3.client('lambda')\n",
    "\n",
    "    response = lambda_client.invoke(\n",
    "        FunctionName='trial-docker-dev-update-table',\n",
    "        InvocationType='RequestResponse',\n",
    "    )\n",
    "    \n",
    "    assert response[\"StatusCode\"] < 300\n",
    "\n",
    "with Flow('ETL') as flow:\n",
    "    it_books = get_books_itbooks()\n",
    "    nytimes_books = get_books_nytimes()\n",
    "\n",
    "    insert_it_books = insert_books.map(it_books, upstream_tasks=[it_books])\n",
    "    insert_nytimes_books = insert_books.map(nytimes_books, upstream_tasks=[nytimes_books])\n",
    "    update_stats_table(upstream_tasks=[insert_it_books, insert_nytimes_books])\n",
    "\n",
    "\n",
    "# @task\n",
    "# def etl_bronze(bucket_name, prizes_path, laureates_path, aws_key, aws_secret, aws_token, aws_region):\n",
    "#     lambda_client = boto3.client('lambda', aws_access_key_id=aws_key, aws_secret_access_key=aws_secret, aws_session_token=aws_token, region_name=aws_region)\n",
    "#     response = lambda_client.invoke(\n",
    "#         FunctionName='bronzeETL',\n",
    "#         InvocationType='RequestResponse',\n",
    "#         Payload = f'{{\"bucketName\": \"{bucket_name}\", \"prizesPath\": \"{prizes_path}\", \"laureatePath\": \"{laureates_path}\"}}'\n",
    "#     )\n",
    "#     assert response[\"StatusCode\"] < 300\n",
    "\n",
    "# @task\n",
    "# def etl_silver(bronze_path, aws_key, aws_secret, aws_token, aws_region):    \n",
    "#     lambda_client = boto3.client('lambda', aws_access_key_id=aws_key, aws_secret_access_key=aws_secret, aws_session_token=aws_token, region_name=aws_region)\n",
    "#     response = lambda_client.invoke(\n",
    "#         FunctionName='silverETL',\n",
    "#         InvocationType='RequestResponse',\n",
    "#         Payload = f'{{\"bronzePath\": \"{bronze_path}\"}}'\n",
    "#     )\n",
    "#     assert response[\"StatusCode\"] < 300\n",
    "\n",
    "\n",
    "# with Flow('ETL') as flow:\n",
    "#     aws_key = Parameter(\"aws_access_key_id\")\n",
    "#     aws_secret = Parameter(\"aws_secret_access_key\")\n",
    "#     aws_token = Parameter(\"aws_session_token\")\n",
    "#     aws_region = Parameter(\"aws_region\")\n",
    "#     for category in ['che', 'eco', 'lit', 'pea', 'phy', 'med']:\n",
    "#         laureates = extract_nobel_prizes(category, aws_key, aws_secret, aws_token, aws_region)\n",
    "#         x1 = extract_laureate.map(laureates, unmapped(aws_key), unmapped(aws_secret), unmapped(aws_token), unmapped(aws_region), upstream_tasks=[laureates])\n",
    "#     x2 = etl_bronze(\"capstone-13\", \"s3://capstone-13/raw/nobelPrizes/\", \"s3://capstone-13/raw/laureates/\", aws_key, aws_secret, aws_token, aws_region, upstream_tasks=[x1])\n",
    "#     etl_silver(\"s3://capstone-13/bronze/bronze_laureates.parquet\", aws_key, aws_secret, aws_token, aws_region, upstream_tasks=[x2])\n"
   ]
  },
  {
   "cell_type": "code",
   "execution_count": 3,
   "metadata": {},
   "outputs": [
    {
     "data": {
      "image/svg+xml": "<?xml version=\"1.0\" encoding=\"UTF-8\" standalone=\"no\"?>\n<!DOCTYPE svg PUBLIC \"-//W3C//DTD SVG 1.1//EN\"\n \"http://www.w3.org/Graphics/SVG/1.1/DTD/svg11.dtd\">\n<!-- Generated by graphviz version 2.43.0 (0)\n -->\n<!-- Title: %3 Pages: 1 -->\n<svg width=\"360pt\" height=\"204pt\"\n viewBox=\"0.00 0.00 360.34 204.00\" xmlns=\"http://www.w3.org/2000/svg\" xmlns:xlink=\"http://www.w3.org/1999/xlink\">\n<g id=\"graph0\" class=\"graph\" transform=\"scale(1 1) rotate(0) translate(4 200)\">\n<title>%3</title>\n<polygon fill=\"white\" stroke=\"transparent\" points=\"-4,4 -4,-200 356.34,-200 356.34,4 -4,4\"/>\n<!-- 139988122182176 -->\n<g id=\"node1\" class=\"node\">\n<title>139988122182176</title>\n<ellipse fill=\"none\" stroke=\"black\" cx=\"96.84\" cy=\"-178\" rx=\"96.68\" ry=\"18\"/>\n<text text-anchor=\"middle\" x=\"96.84\" y=\"-174.3\" font-family=\"Times,serif\" font-size=\"14.00\">GetBooksNYTimes</text>\n</g>\n<!-- 139988122182416 -->\n<g id=\"node4\" class=\"node\">\n<title>139988122182416</title>\n<polygon fill=\"none\" stroke=\"black\" points=\"173.34,-109 12.34,-109 12.34,-73 173.34,-73 173.34,-109\"/>\n<text text-anchor=\"middle\" x=\"92.84\" y=\"-87.3\" font-family=\"Times,serif\" font-size=\"14.00\">InsertBooks &lt;map&gt;</text>\n</g>\n<!-- 139988122182176&#45;&gt;139988122182416 -->\n<g id=\"edge4\" class=\"edge\">\n<title>139988122182176&#45;&gt;139988122182416</title>\n<path fill=\"none\" stroke=\"black\" stroke-dasharray=\"5,2\" d=\"M93.91,-159.96C93.07,-154.27 92.26,-147.88 91.84,-142 91.32,-134.67 91.25,-126.72 91.4,-119.36\"/>\n<polygon fill=\"black\" stroke=\"black\" points=\"94.9,-119.25 91.73,-109.14 87.91,-119.02 94.9,-119.25\"/>\n</g>\n<!-- 139988122182176&#45;&gt;139988122182416 -->\n<g id=\"edge5\" class=\"edge\">\n<title>139988122182176&#45;&gt;139988122182416</title>\n<path fill=\"none\" stroke=\"black\" stroke-dasharray=\"5,2\" d=\"M96.03,-159.8C95.48,-148.16 94.75,-132.55 94.12,-119.24\"/>\n<polygon fill=\"black\" stroke=\"black\" points=\"97.62,-119 93.65,-109.18 90.62,-119.33 97.62,-119\"/>\n<text text-anchor=\"middle\" x=\"111.84\" y=\"-130.8\" font-family=\"Times,serif\" font-size=\"14.00\">book</text>\n</g>\n<!-- 139988122182944 -->\n<g id=\"node2\" class=\"node\">\n<title>139988122182944</title>\n<ellipse fill=\"none\" stroke=\"black\" cx=\"181.84\" cy=\"-18\" rx=\"69.59\" ry=\"18\"/>\n<text text-anchor=\"middle\" x=\"181.84\" y=\"-14.3\" font-family=\"Times,serif\" font-size=\"14.00\">UpdateTable</text>\n</g>\n<!-- 139988122449712 -->\n<g id=\"node3\" class=\"node\">\n<title>139988122449712</title>\n<ellipse fill=\"none\" stroke=\"black\" cx=\"281.84\" cy=\"-178\" rx=\"62.29\" ry=\"18\"/>\n<text text-anchor=\"middle\" x=\"281.84\" y=\"-174.3\" font-family=\"Times,serif\" font-size=\"14.00\">GetBooksIt</text>\n</g>\n<!-- 139988122182320 -->\n<g id=\"node5\" class=\"node\">\n<title>139988122182320</title>\n<polygon fill=\"none\" stroke=\"black\" points=\"352.34,-109 191.34,-109 191.34,-73 352.34,-73 352.34,-109\"/>\n<text text-anchor=\"middle\" x=\"271.84\" y=\"-87.3\" font-family=\"Times,serif\" font-size=\"14.00\">InsertBooks &lt;map&gt;</text>\n</g>\n<!-- 139988122449712&#45;&gt;139988122182320 -->\n<g id=\"edge2\" class=\"edge\">\n<title>139988122449712&#45;&gt;139988122182320</title>\n<path fill=\"none\" stroke=\"black\" stroke-dasharray=\"5,2\" d=\"M254.69,-161.56C247.94,-156.29 241.57,-149.74 237.84,-142 233.76,-133.53 236.69,-124.86 242.24,-117.18\"/>\n<polygon fill=\"black\" stroke=\"black\" points=\"245.18,-119.13 249.07,-109.28 239.88,-114.55 245.18,-119.13\"/>\n<text text-anchor=\"middle\" x=\"254.84\" y=\"-130.8\" font-family=\"Times,serif\" font-size=\"14.00\">book</text>\n</g>\n<!-- 139988122449712&#45;&gt;139988122182320 -->\n<g id=\"edge3\" class=\"edge\">\n<title>139988122449712&#45;&gt;139988122182320</title>\n<path fill=\"none\" stroke=\"black\" stroke-dasharray=\"5,2\" d=\"M279.82,-159.8C278.45,-148.16 276.61,-132.55 275.05,-119.24\"/>\n<polygon fill=\"black\" stroke=\"black\" points=\"278.51,-118.7 273.86,-109.18 271.55,-119.52 278.51,-118.7\"/>\n</g>\n<!-- 139988122182416&#45;&gt;139988122182944 -->\n<g id=\"edge6\" class=\"edge\">\n<title>139988122182416&#45;&gt;139988122182944</title>\n<path fill=\"none\" stroke=\"black\" d=\"M114.39,-72.81C126.12,-63.45 140.78,-51.76 153.44,-41.66\"/>\n<polygon fill=\"black\" stroke=\"black\" points=\"155.78,-44.27 161.41,-35.3 151.41,-38.8 155.78,-44.27\"/>\n</g>\n<!-- 139988122182320&#45;&gt;139988122182944 -->\n<g id=\"edge1\" class=\"edge\">\n<title>139988122182320&#45;&gt;139988122182944</title>\n<path fill=\"none\" stroke=\"black\" d=\"M250.05,-72.81C238.19,-63.45 223.36,-51.76 210.57,-41.66\"/>\n<polygon fill=\"black\" stroke=\"black\" points=\"212.52,-38.74 202.5,-35.3 208.18,-44.24 212.52,-38.74\"/>\n</g>\n</g>\n</svg>\n",
      "text/plain": [
       "<graphviz.graphs.Digraph at 0x7f519c6d0ac0>"
      ]
     },
     "execution_count": 3,
     "metadata": {},
     "output_type": "execute_result"
    }
   ],
   "source": [
    "flow.visualize()"
   ]
  },
  {
   "cell_type": "code",
   "execution_count": 4,
   "metadata": {},
   "outputs": [
    {
     "name": "stdout",
     "output_type": "stream",
     "text": [
      "[2022-08-09 17:34:31+0200] INFO - prefect.FlowRunner | Beginning Flow run for 'ETL'\n",
      "[2022-08-09 17:34:31+0200] INFO - prefect.TaskRunner | Task 'GetBooksNYTimes': Starting task run...\n",
      "['NYHeather Williams', 'NYJames Garcia']\n",
      "[2022-08-09 17:34:35+0200] INFO - prefect.TaskRunner | Task 'GetBooksNYTimes': Finished task run for task with final state: 'Success'\n",
      "[2022-08-09 17:34:35+0200] INFO - prefect.TaskRunner | Task 'GetBooksIt': Starting task run...\n",
      "['ITGeorge Duran', 'ITRebecca Clay']\n",
      "[2022-08-09 17:34:38+0200] INFO - prefect.TaskRunner | Task 'GetBooksIt': Finished task run for task with final state: 'Success'\n",
      "[2022-08-09 17:34:38+0200] INFO - prefect.TaskRunner | Task 'InsertBooks': Starting task run...\n",
      "[2022-08-09 17:34:38+0200] INFO - prefect.TaskRunner | Task 'InsertBooks': Finished task run for task with final state: 'Mapped'\n",
      "[2022-08-09 17:34:38+0200] INFO - prefect.TaskRunner | Task 'InsertBooks[0]': Starting task run...\n",
      "pepe\n",
      "[2022-08-09 17:34:39+0200] INFO - prefect.TaskRunner | Task 'InsertBooks[0]': Finished task run for task with final state: 'Success'\n",
      "[2022-08-09 17:34:39+0200] INFO - prefect.TaskRunner | Task 'InsertBooks[1]': Starting task run...\n",
      "pepe\n",
      "[2022-08-09 17:34:40+0200] INFO - prefect.TaskRunner | Task 'InsertBooks[1]': Finished task run for task with final state: 'Success'\n",
      "[2022-08-09 17:34:40+0200] INFO - prefect.TaskRunner | Task 'InsertBooks': Starting task run...\n",
      "[2022-08-09 17:34:40+0200] INFO - prefect.TaskRunner | Task 'InsertBooks': Finished task run for task with final state: 'Mapped'\n",
      "[2022-08-09 17:34:40+0200] INFO - prefect.TaskRunner | Task 'InsertBooks[0]': Starting task run...\n",
      "pepe\n",
      "[2022-08-09 17:34:41+0200] INFO - prefect.TaskRunner | Task 'InsertBooks[0]': Finished task run for task with final state: 'Success'\n",
      "[2022-08-09 17:34:41+0200] INFO - prefect.TaskRunner | Task 'InsertBooks[1]': Starting task run...\n",
      "pepe\n",
      "[2022-08-09 17:34:41+0200] INFO - prefect.TaskRunner | Task 'InsertBooks[1]': Finished task run for task with final state: 'Success'\n",
      "[2022-08-09 17:34:41+0200] INFO - prefect.TaskRunner | Task 'UpdateTable': Starting task run...\n",
      "[2022-08-09 17:34:43+0200] INFO - prefect.TaskRunner | Task 'UpdateTable': Finished task run for task with final state: 'Success'\n",
      "[2022-08-09 17:34:43+0200] INFO - prefect.FlowRunner | Flow run SUCCESS: all reference tasks succeeded\n"
     ]
    },
    {
     "data": {
      "text/plain": [
       "<Success: \"All reference tasks succeeded.\">"
      ]
     },
     "execution_count": 4,
     "metadata": {},
     "output_type": "execute_result"
    }
   ],
   "source": [
    "flow.run()"
   ]
  },
  {
   "cell_type": "code",
   "execution_count": null,
   "metadata": {},
   "outputs": [],
   "source": []
  }
 ],
 "metadata": {
  "kernelspec": {
   "display_name": "Python 3.9.12 ('tfm-v2')",
   "language": "python",
   "name": "python3"
  },
  "language_info": {
   "codemirror_mode": {
    "name": "ipython",
    "version": 3
   },
   "file_extension": ".py",
   "mimetype": "text/x-python",
   "name": "python",
   "nbconvert_exporter": "python",
   "pygments_lexer": "ipython3",
   "version": "3.9.12"
  },
  "orig_nbformat": 4,
  "vscode": {
   "interpreter": {
    "hash": "4eb388abe86f614ffd3f52b695c8583cde5011c55e35362048b5639bb61cd93a"
   }
  }
 },
 "nbformat": 4,
 "nbformat_minor": 2
}
