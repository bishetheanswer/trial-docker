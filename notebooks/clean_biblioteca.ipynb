{
 "cells": [
  {
   "cell_type": "code",
   "execution_count": 123,
   "metadata": {},
   "outputs": [],
   "source": [
    "import pandas as pd\n",
    "import re"
   ]
  },
  {
   "cell_type": "code",
   "execution_count": 124,
   "metadata": {},
   "outputs": [
    {
     "name": "stdout",
     "output_type": "stream",
     "text": [
      "(10000, 53)\n"
     ]
    },
    {
     "data": {
      "text/html": [
       "<div>\n",
       "<style scoped>\n",
       "    .dataframe tbody tr th:only-of-type {\n",
       "        vertical-align: middle;\n",
       "    }\n",
       "\n",
       "    .dataframe tbody tr th {\n",
       "        vertical-align: top;\n",
       "    }\n",
       "\n",
       "    .dataframe thead th {\n",
       "        text-align: right;\n",
       "    }\n",
       "</style>\n",
       "<table border=\"1\" class=\"dataframe\">\n",
       "  <thead>\n",
       "    <tr style=\"text-align: right;\">\n",
       "      <th></th>\n",
       "      <th>idBNE</th>\n",
       "      <th>Autor Personas</th>\n",
       "      <th>Autor Entidades</th>\n",
       "      <th>Título uniforme</th>\n",
       "      <th>Título</th>\n",
       "      <th>Otros Títulos</th>\n",
       "      <th>Información asociada al título</th>\n",
       "      <th>Edición</th>\n",
       "      <th>Editorial</th>\n",
       "      <th>Editor musical</th>\n",
       "      <th>...</th>\n",
       "      <th>Depósito Legal</th>\n",
       "      <th>Otros Números Normalizados</th>\n",
       "      <th>Número Bibliografía Nacional</th>\n",
       "      <th>País de publicación</th>\n",
       "      <th>Lengua de publicación</th>\n",
       "      <th>Lengua original</th>\n",
       "      <th>otras lenguas</th>\n",
       "      <th>Tipo de documento</th>\n",
       "      <th>Condiciones de uso</th>\n",
       "      <th>enlaces</th>\n",
       "    </tr>\n",
       "  </thead>\n",
       "  <tbody>\n",
       "    <tr>\n",
       "      <th>7635</th>\n",
       "      <td>biam0000009928</td>\n",
       "      <td>NaN</td>\n",
       "      <td>NaN</td>\n",
       "      <td>NaN</td>\n",
       "      <td>Fichas y relaciones de obras impresas y manusc...</td>\n",
       "      <td>NaN</td>\n",
       "      <td>NaN</td>\n",
       "      <td>NaN</td>\n",
       "      <td>NaN</td>\n",
       "      <td>NaN</td>\n",
       "      <td>...</td>\n",
       "      <td>NaN</td>\n",
       "      <td>NaN</td>\n",
       "      <td>NaN</td>\n",
       "      <td>NaN</td>\n",
       "      <td>NaN</td>\n",
       "      <td>NaN</td>\n",
       "      <td>NaN</td>\n",
       "      <td>Manuscrito</td>\n",
       "      <td>NaN</td>\n",
       "      <td>NaN</td>\n",
       "    </tr>\n",
       "    <tr>\n",
       "      <th>2954</th>\n",
       "      <td>biam0000004018</td>\n",
       "      <td>NaN</td>\n",
       "      <td>NaN</td>\n",
       "      <td>NaN</td>\n",
       "      <td>Papeles referentes al pago de 19,5 millones de...</td>\n",
       "      <td>NaN</td>\n",
       "      <td>NaN</td>\n",
       "      <td>NaN</td>\n",
       "      <td>NaN</td>\n",
       "      <td>NaN</td>\n",
       "      <td>...</td>\n",
       "      <td>NaN</td>\n",
       "      <td>NaN</td>\n",
       "      <td>NaN</td>\n",
       "      <td>sp</td>\n",
       "      <td>spa</td>\n",
       "      <td>NaN</td>\n",
       "      <td>NaN</td>\n",
       "      <td>Manuscrito</td>\n",
       "      <td>NaN</td>\n",
       "      <td>NaN</td>\n",
       "    </tr>\n",
       "    <tr>\n",
       "      <th>9888</th>\n",
       "      <td>biam0000013558</td>\n",
       "      <td>Verger, Amédée , fl. 1864  //</td>\n",
       "      <td>NaN</td>\n",
       "      <td>NaN</td>\n",
       "      <td>Cartas de Amédée Verger a Francisco A. Barbieri</td>\n",
       "      <td>NaN</td>\n",
       "      <td>NaN</td>\n",
       "      <td>NaN</td>\n",
       "      <td>NaN</td>\n",
       "      <td>NaN</td>\n",
       "      <td>...</td>\n",
       "      <td>NaN</td>\n",
       "      <td>NaN</td>\n",
       "      <td>NaN</td>\n",
       "      <td>NaN</td>\n",
       "      <td>NaN</td>\n",
       "      <td>NaN</td>\n",
       "      <td>NaN</td>\n",
       "      <td>Manuscrito</td>\n",
       "      <td>NaN</td>\n",
       "      <td>NaN</td>\n",
       "    </tr>\n",
       "    <tr>\n",
       "      <th>3962</th>\n",
       "      <td>biam0000005472</td>\n",
       "      <td>NaN</td>\n",
       "      <td>NaN</td>\n",
       "      <td>NaN</td>\n",
       "      <td>Informaciones sobre la vida y milagros de San ...</td>\n",
       "      <td>NaN</td>\n",
       "      <td>NaN</td>\n",
       "      <td>NaN</td>\n",
       "      <td>NaN</td>\n",
       "      <td>NaN</td>\n",
       "      <td>...</td>\n",
       "      <td>NaN</td>\n",
       "      <td>NaN</td>\n",
       "      <td>NaN</td>\n",
       "      <td>NaN</td>\n",
       "      <td>NaN</td>\n",
       "      <td>NaN</td>\n",
       "      <td>NaN</td>\n",
       "      <td>Manuscrito</td>\n",
       "      <td>NaN</td>\n",
       "      <td>http://bdh-rd.bne.es/viewer.vm?id=0000134148&amp;p...</td>\n",
       "    </tr>\n",
       "    <tr>\n",
       "      <th>6737</th>\n",
       "      <td>biam0000008783</td>\n",
       "      <td>NaN</td>\n",
       "      <td>NaN</td>\n",
       "      <td>NaN</td>\n",
       "      <td>Copia de la partida de bautismo de José de Esp...</td>\n",
       "      <td>NaN</td>\n",
       "      <td>NaN</td>\n",
       "      <td>NaN</td>\n",
       "      <td>NaN</td>\n",
       "      <td>NaN</td>\n",
       "      <td>...</td>\n",
       "      <td>NaN</td>\n",
       "      <td>NaN</td>\n",
       "      <td>NaN</td>\n",
       "      <td>NaN</td>\n",
       "      <td>NaN</td>\n",
       "      <td>NaN</td>\n",
       "      <td>NaN</td>\n",
       "      <td>Manuscrito</td>\n",
       "      <td>NaN</td>\n",
       "      <td>NaN</td>\n",
       "    </tr>\n",
       "    <tr>\n",
       "      <th>4513</th>\n",
       "      <td>biam0000006182</td>\n",
       "      <td>Godoy Alcántara, José , 1825-1875  //</td>\n",
       "      <td>NaN</td>\n",
       "      <td>NaN</td>\n",
       "      <td>Carta de José Godoy Alcántara a José M. Antequera</td>\n",
       "      <td>NaN</td>\n",
       "      <td>José Godoy Alcántara</td>\n",
       "      <td>NaN</td>\n",
       "      <td>NaN</td>\n",
       "      <td>NaN</td>\n",
       "      <td>...</td>\n",
       "      <td>NaN</td>\n",
       "      <td>NaN</td>\n",
       "      <td>NaN</td>\n",
       "      <td>NaN</td>\n",
       "      <td>spa</td>\n",
       "      <td>NaN</td>\n",
       "      <td>NaN</td>\n",
       "      <td>Manuscrito</td>\n",
       "      <td>NaN</td>\n",
       "      <td>NaN</td>\n",
       "    </tr>\n",
       "    <tr>\n",
       "      <th>1073</th>\n",
       "      <td>biam0000001558</td>\n",
       "      <td>Acquaviva d'Aragona, Giovanni Girolamo, Conte ...</td>\n",
       "      <td>NaN</td>\n",
       "      <td>NaN</td>\n",
       "      <td>Memorial sobre la calidad y servicios de su casa</td>\n",
       "      <td>NaN</td>\n",
       "      <td>Juan Geronimo Aquaviva y Aragón, Conde de Conb...</td>\n",
       "      <td>NaN</td>\n",
       "      <td>NaN</td>\n",
       "      <td>NaN</td>\n",
       "      <td>...</td>\n",
       "      <td>NaN</td>\n",
       "      <td>NaN</td>\n",
       "      <td>NaN</td>\n",
       "      <td>NaN</td>\n",
       "      <td>NaN</td>\n",
       "      <td>NaN</td>\n",
       "      <td>NaN</td>\n",
       "      <td>Manuscrito</td>\n",
       "      <td>NaN</td>\n",
       "      <td>NaN</td>\n",
       "    </tr>\n",
       "    <tr>\n",
       "      <th>9193</th>\n",
       "      <td>biam0000012180</td>\n",
       "      <td>Herrero y Espinosa de los Monteros, Sebastián ...</td>\n",
       "      <td>NaN</td>\n",
       "      <td>NaN</td>\n",
       "      <td>Cartas de Sebastián Herrero y Espinosa de los ...</td>\n",
       "      <td>NaN</td>\n",
       "      <td>NaN</td>\n",
       "      <td>NaN</td>\n",
       "      <td>NaN</td>\n",
       "      <td>NaN</td>\n",
       "      <td>...</td>\n",
       "      <td>NaN</td>\n",
       "      <td>NaN</td>\n",
       "      <td>NaN</td>\n",
       "      <td>NaN</td>\n",
       "      <td>NaN</td>\n",
       "      <td>NaN</td>\n",
       "      <td>NaN</td>\n",
       "      <td>Manuscrito</td>\n",
       "      <td>NaN</td>\n",
       "      <td>NaN</td>\n",
       "    </tr>\n",
       "    <tr>\n",
       "      <th>3106</th>\n",
       "      <td>biam0000004244</td>\n",
       "      <td>NaN</td>\n",
       "      <td>NaN</td>\n",
       "      <td>NaN</td>\n",
       "      <td>Ejecutoria de hidalguía de Fernando de Peralta</td>\n",
       "      <td>NaN</td>\n",
       "      <td>NaN</td>\n",
       "      <td>NaN</td>\n",
       "      <td>NaN</td>\n",
       "      <td>NaN</td>\n",
       "      <td>...</td>\n",
       "      <td>NaN</td>\n",
       "      <td>NaN</td>\n",
       "      <td>NaN</td>\n",
       "      <td>sp</td>\n",
       "      <td>spa</td>\n",
       "      <td>NaN</td>\n",
       "      <td>NaN</td>\n",
       "      <td>Manuscrito</td>\n",
       "      <td>NaN</td>\n",
       "      <td>http://bdh-rd.bne.es/viewer.vm?id=0000192346&amp;p...</td>\n",
       "    </tr>\n",
       "    <tr>\n",
       "      <th>1263</th>\n",
       "      <td>biam0000001792</td>\n",
       "      <td>Fernando V, Rey de España  //</td>\n",
       "      <td>NaN</td>\n",
       "      <td>NaN</td>\n",
       "      <td>Ordenanzas de D. Fernando el Católico a la ciu...</td>\n",
       "      <td>NaN</td>\n",
       "      <td>NaN</td>\n",
       "      <td>NaN</td>\n",
       "      <td>NaN</td>\n",
       "      <td>NaN</td>\n",
       "      <td>...</td>\n",
       "      <td>NaN</td>\n",
       "      <td>NaN</td>\n",
       "      <td>NaN</td>\n",
       "      <td>sp</td>\n",
       "      <td>spa</td>\n",
       "      <td>NaN</td>\n",
       "      <td>NaN</td>\n",
       "      <td>Manuscrito</td>\n",
       "      <td>NaN</td>\n",
       "      <td>NaN</td>\n",
       "    </tr>\n",
       "  </tbody>\n",
       "</table>\n",
       "<p>10 rows × 53 columns</p>\n",
       "</div>"
      ],
      "text/plain": [
       "               idBNE                                     Autor Personas  \\\n",
       "7635  biam0000009928                                                NaN   \n",
       "2954  biam0000004018                                                NaN   \n",
       "9888  biam0000013558                      Verger, Amédée , fl. 1864  //   \n",
       "3962  biam0000005472                                                NaN   \n",
       "6737  biam0000008783                                                NaN   \n",
       "4513  biam0000006182              Godoy Alcántara, José , 1825-1875  //   \n",
       "1073  biam0000001558  Acquaviva d'Aragona, Giovanni Girolamo, Conte ...   \n",
       "9193  biam0000012180  Herrero y Espinosa de los Monteros, Sebastián ...   \n",
       "3106  biam0000004244                                                NaN   \n",
       "1263  biam0000001792                      Fernando V, Rey de España  //   \n",
       "\n",
       "     Autor Entidades Título uniforme  \\\n",
       "7635             NaN             NaN   \n",
       "2954             NaN             NaN   \n",
       "9888             NaN             NaN   \n",
       "3962             NaN             NaN   \n",
       "6737             NaN             NaN   \n",
       "4513             NaN             NaN   \n",
       "1073             NaN             NaN   \n",
       "9193             NaN             NaN   \n",
       "3106             NaN             NaN   \n",
       "1263             NaN             NaN   \n",
       "\n",
       "                                                 Título Otros Títulos  \\\n",
       "7635  Fichas y relaciones de obras impresas y manusc...           NaN   \n",
       "2954  Papeles referentes al pago de 19,5 millones de...           NaN   \n",
       "9888    Cartas de Amédée Verger a Francisco A. Barbieri           NaN   \n",
       "3962  Informaciones sobre la vida y milagros de San ...           NaN   \n",
       "6737  Copia de la partida de bautismo de José de Esp...           NaN   \n",
       "4513  Carta de José Godoy Alcántara a José M. Antequera           NaN   \n",
       "1073   Memorial sobre la calidad y servicios de su casa           NaN   \n",
       "9193  Cartas de Sebastián Herrero y Espinosa de los ...           NaN   \n",
       "3106     Ejecutoria de hidalguía de Fernando de Peralta           NaN   \n",
       "1263  Ordenanzas de D. Fernando el Católico a la ciu...           NaN   \n",
       "\n",
       "                         Información asociada al título  Edición Editorial  \\\n",
       "7635                                                NaN      NaN       NaN   \n",
       "2954                                                NaN      NaN       NaN   \n",
       "9888                                                NaN      NaN       NaN   \n",
       "3962                                                NaN      NaN       NaN   \n",
       "6737                                                NaN      NaN       NaN   \n",
       "4513                               José Godoy Alcántara      NaN       NaN   \n",
       "1073  Juan Geronimo Aquaviva y Aragón, Conde de Conb...      NaN       NaN   \n",
       "9193                                                NaN      NaN       NaN   \n",
       "3106                                                NaN      NaN       NaN   \n",
       "1263                                                NaN      NaN       NaN   \n",
       "\n",
       "      Editor musical  ... Depósito Legal Otros Números Normalizados  \\\n",
       "7635             NaN  ...            NaN                        NaN   \n",
       "2954             NaN  ...            NaN                        NaN   \n",
       "9888             NaN  ...            NaN                        NaN   \n",
       "3962             NaN  ...            NaN                        NaN   \n",
       "6737             NaN  ...            NaN                        NaN   \n",
       "4513             NaN  ...            NaN                        NaN   \n",
       "1073             NaN  ...            NaN                        NaN   \n",
       "9193             NaN  ...            NaN                        NaN   \n",
       "3106             NaN  ...            NaN                        NaN   \n",
       "1263             NaN  ...            NaN                        NaN   \n",
       "\n",
       "     Número Bibliografía Nacional  País de publicación Lengua de publicación  \\\n",
       "7635                          NaN                  NaN                   NaN   \n",
       "2954                          NaN                   sp                   spa   \n",
       "9888                          NaN                  NaN                   NaN   \n",
       "3962                          NaN                  NaN                   NaN   \n",
       "6737                          NaN                  NaN                   NaN   \n",
       "4513                          NaN                  NaN                   spa   \n",
       "1073                          NaN                  NaN                   NaN   \n",
       "9193                          NaN                  NaN                   NaN   \n",
       "3106                          NaN                   sp                   spa   \n",
       "1263                          NaN                   sp                   spa   \n",
       "\n",
       "     Lengua original otras lenguas Tipo de documento Condiciones de uso  \\\n",
       "7635             NaN           NaN        Manuscrito                NaN   \n",
       "2954             NaN           NaN        Manuscrito                NaN   \n",
       "9888             NaN           NaN        Manuscrito                NaN   \n",
       "3962             NaN           NaN        Manuscrito                NaN   \n",
       "6737             NaN           NaN        Manuscrito                NaN   \n",
       "4513             NaN           NaN        Manuscrito                NaN   \n",
       "1073             NaN           NaN        Manuscrito                NaN   \n",
       "9193             NaN           NaN        Manuscrito                NaN   \n",
       "3106             NaN           NaN        Manuscrito                NaN   \n",
       "1263             NaN           NaN        Manuscrito                NaN   \n",
       "\n",
       "                                                enlaces  \n",
       "7635                                                NaN  \n",
       "2954                                                NaN  \n",
       "9888                                                NaN  \n",
       "3962  http://bdh-rd.bne.es/viewer.vm?id=0000134148&p...  \n",
       "6737                                                NaN  \n",
       "4513                                                NaN  \n",
       "1073                                                NaN  \n",
       "9193                                                NaN  \n",
       "3106  http://bdh-rd.bne.es/viewer.vm?id=0000192346&p...  \n",
       "1263                                                NaN  \n",
       "\n",
       "[10 rows x 53 columns]"
      ]
     },
     "execution_count": 124,
     "metadata": {},
     "output_type": "execute_result"
    }
   ],
   "source": [
    "df = pd.read_csv('./data/MANUSCRITO_1-UTF8.csv', sep=';')\n",
    "print(df.shape)\n",
    "df.sample(10)"
   ]
  },
  {
   "cell_type": "markdown",
   "metadata": {},
   "source": [
    "Quitamos las filas y columnas que esten vacias. Ademas quitamos las filas que no tengan autor o titulo"
   ]
  },
  {
   "cell_type": "code",
   "execution_count": 125,
   "metadata": {},
   "outputs": [
    {
     "name": "stdout",
     "output_type": "stream",
     "text": [
      "(6110, 35)\n"
     ]
    }
   ],
   "source": [
    "df = df.dropna(how=\"all\", axis=0)\n",
    "df = df.dropna(how=\"all\", axis=1)\n",
    "df = df[df['Autor Personas'].notna()]\n",
    "df = df[df[\"Título\"].notna()]\n",
    "print(df.shape)"
   ]
  },
  {
   "cell_type": "markdown",
   "metadata": {},
   "source": [
    "Quitamos digitos, parentesis, lo ponemos todo en minusculas y cambiamos las comas por barra bajas porque mas tarde las comas eran problematicas al aplicar la function split."
   ]
  },
  {
   "cell_type": "code",
   "execution_count": 126,
   "metadata": {},
   "outputs": [
    {
     "data": {
      "text/plain": [
       "0                isidoro_ santo_ arzobispo de sevilla  //\n",
       "2                             figueroa_ francisco de   //\n",
       "3                                    josefa victoria   //\n",
       "4                                laudivius_ zacharias  //\n",
       "5                            paula de jesús nazareno   //\n",
       "                              ...                        \n",
       "9989                          juan i_ rey de castilla  //\n",
       "9991                      tramoyeres blasco_ luis _ -  //\n",
       "9992                         rojas_ josé maría de _ -  //\n",
       "9994    silvela_ francisco _ -  // toreno_ josé maría ...\n",
       "9998                                 valera_ juan _ -  //\n",
       "Name: Autor Personas, Length: 6110, dtype: object"
      ]
     },
     "execution_count": 126,
     "metadata": {},
     "output_type": "execute_result"
    }
   ],
   "source": [
    "def initial_clean(s):\n",
    "    s = re.sub(\"\\d\", \"\", s)  # get rid of digits\n",
    "    s = re.sub(\"\\(.*\\)\", \"\", s)  # get rid of parenthesis and what is inside\n",
    "    s = re.sub(\n",
    "        \",\", \"_\", s\n",
    "    )  # need to change comas for other symbol cause they are problematic when splitting an string\n",
    "    s = s.lower()\n",
    "    return s\n",
    "\n",
    "df['Autor Personas'] = df['Autor Personas'].apply(lambda x: initial_clean(x))   \n",
    "df['Autor Personas']"
   ]
  },
  {
   "cell_type": "markdown",
   "metadata": {},
   "source": [
    "Partimos los nombres de autores usando // como referencia."
   ]
  },
  {
   "cell_type": "code",
   "execution_count": 127,
   "metadata": {},
   "outputs": [
    {
     "data": {
      "text/plain": [
       "0              [isidoro_ santo_ arzobispo de sevilla  , ]\n",
       "2                           [figueroa_ francisco de   , ]\n",
       "3                                  [josefa victoria   , ]\n",
       "4                              [laudivius_ zacharias  , ]\n",
       "5                          [paula de jesús nazareno   , ]\n",
       "                              ...                        \n",
       "9989                        [juan i_ rey de castilla  , ]\n",
       "9991                    [tramoyeres blasco_ luis _ -  , ]\n",
       "9992                       [rojas_ josé maría de _ -  , ]\n",
       "9994    [silvela_ francisco _ -  ,  toreno_ josé maría...\n",
       "9998                               [valera_ juan _ -  , ]\n",
       "Name: Autor Personas, Length: 6110, dtype: object"
      ]
     },
     "execution_count": 127,
     "metadata": {},
     "output_type": "execute_result"
    }
   ],
   "source": [
    "df['Autor Personas'] = df['Autor Personas'].str.split(\"//\")\n",
    "df['Autor Personas']"
   ]
  },
  {
   "cell_type": "markdown",
   "metadata": {},
   "source": [
    "Nos deshacemos de la ultima posicion de los arrays ya que siempre va a estar vacia debido a que los nombres de los autores siempre acaban por //"
   ]
  },
  {
   "cell_type": "code",
   "execution_count": 128,
   "metadata": {},
   "outputs": [
    {
     "data": {
      "text/plain": [
       "0                [isidoro_ santo_ arzobispo de sevilla  ]\n",
       "2                             [figueroa_ francisco de   ]\n",
       "3                                    [josefa victoria   ]\n",
       "4                                [laudivius_ zacharias  ]\n",
       "5                            [paula de jesús nazareno   ]\n",
       "                              ...                        \n",
       "9989                          [juan i_ rey de castilla  ]\n",
       "9991                      [tramoyeres blasco_ luis _ -  ]\n",
       "9992                         [rojas_ josé maría de _ -  ]\n",
       "9994    [silvela_ francisco _ -  ,  toreno_ josé maría...\n",
       "9998                                 [valera_ juan _ -  ]\n",
       "Name: Autor Personas, Length: 6110, dtype: object"
      ]
     },
     "execution_count": 128,
     "metadata": {},
     "output_type": "execute_result"
    }
   ],
   "source": [
    "def remove_empty_list_position(l):\n",
    "    return l[:-1]\n",
    "\n",
    "df['Autor Personas'] = df['Autor Personas'].apply(lambda x: remove_empty_list_position(x))\n",
    "df['Autor Personas']"
   ]
  },
  {
   "cell_type": "markdown",
   "metadata": {},
   "source": [
    "Explotamos la columna de autores para tener un autor por fila"
   ]
  },
  {
   "cell_type": "code",
   "execution_count": 129,
   "metadata": {},
   "outputs": [
    {
     "name": "stdout",
     "output_type": "stream",
     "text": [
      "Before (6110, 35)\n",
      "After (8172, 35)\n"
     ]
    },
    {
     "data": {
      "text/plain": [
       "0                  isidoro_ santo_ arzobispo de sevilla  \n",
       "2                               figueroa_ francisco de   \n",
       "3                                      josefa victoria   \n",
       "4                                  laudivius_ zacharias  \n",
       "5                              paula de jesús nazareno   \n",
       "                              ...                        \n",
       "9991                        tramoyeres blasco_ luis _ -  \n",
       "9992                           rojas_ josé maría de _ -  \n",
       "9994                             silvela_ francisco _ -  \n",
       "9994     toreno_ josé maría queipo de llano ruiz de sa...\n",
       "9998                                   valera_ juan _ -  \n",
       "Name: Autor Personas, Length: 8172, dtype: object"
      ]
     },
     "execution_count": 129,
     "metadata": {},
     "output_type": "execute_result"
    }
   ],
   "source": [
    "print('Before', df.shape)\n",
    "df= df.explode('Autor Personas')\n",
    "print('After', df.shape)\n",
    "df['Autor Personas']"
   ]
  },
  {
   "cell_type": "markdown",
   "metadata": {},
   "source": [
    "Separamos apellido, nombre y titulo"
   ]
  },
  {
   "cell_type": "code",
   "execution_count": 130,
   "metadata": {},
   "outputs": [
    {
     "data": {
      "text/plain": [
       "0              [isidoro,  santo,  arzobispo de sevilla  ]\n",
       "2                            [figueroa,  francisco de   ]\n",
       "3                                    [josefa victoria   ]\n",
       "4                               [laudivius,  zacharias  ]\n",
       "5                            [paula de jesús nazareno   ]\n",
       "                              ...                        \n",
       "9991                    [tramoyeres blasco,  luis ,  -  ]\n",
       "9992                       [rojas,  josé maría de ,  -  ]\n",
       "9994                         [silvela,  francisco ,  -  ]\n",
       "9994    [ toreno,  josé maría queipo de llano ruiz de ...\n",
       "9998                               [valera,  juan ,  -  ]\n",
       "Name: Autor Personas, Length: 8172, dtype: object"
      ]
     },
     "execution_count": 130,
     "metadata": {},
     "output_type": "execute_result"
    }
   ],
   "source": [
    "df['Autor Personas'] = df['Autor Personas'].str.split(\"_\")\n",
    "df['Autor Personas']"
   ]
  },
  {
   "cell_type": "markdown",
   "metadata": {},
   "source": [
    "Cambiamos el orden del nombre y apellido para que el formato sea similar al usado en las APIs"
   ]
  },
  {
   "cell_type": "code",
   "execution_count": 131,
   "metadata": {},
   "outputs": [
    {
     "data": {
      "text/plain": [
       "0              [ santo, isidoro,  arzobispo de sevilla  ]\n",
       "2                            [ francisco de   , figueroa]\n",
       "3                                    [josefa victoria   ]\n",
       "4                               [ zacharias  , laudivius]\n",
       "5                            [paula de jesús nazareno   ]\n",
       "                              ...                        \n",
       "9991                    [ luis , tramoyeres blasco,  -  ]\n",
       "9992                       [ josé maría de , rojas,  -  ]\n",
       "9994                         [ francisco , silvela,  -  ]\n",
       "9994    [ josé maría queipo de llano ruiz de saravia, ...\n",
       "9998                               [ juan , valera,  -  ]\n",
       "Name: Autor Personas, Length: 8172, dtype: object"
      ]
     },
     "execution_count": 131,
     "metadata": {},
     "output_type": "execute_result"
    }
   ],
   "source": [
    "def swap_name_and_surname(l):\n",
    "    # the format is [surname, name, title]\n",
    "    if len(l) == 1:\n",
    "        return l\n",
    "    else:\n",
    "        surname = l[0]\n",
    "        l[0] = l[1]\n",
    "        l[1] = surname\n",
    "        return l\n",
    "\n",
    "df['Autor Personas'] = df['Autor Personas'].apply(lambda x: swap_name_and_surname(x))\n",
    "df['Autor Personas']"
   ]
  },
  {
   "cell_type": "markdown",
   "metadata": {},
   "source": [
    "Quedan espacios en blanco antes y despues de los nombres, por lo tanto, nos deshacemos de ellos y despues rellenamos los espacios dentro del nombre con barra bajas"
   ]
  },
  {
   "cell_type": "code",
   "execution_count": 132,
   "metadata": {},
   "outputs": [
    {
     "data": {
      "text/plain": [
       "0                  [santo, isidoro, arzobispo_de_sevilla]\n",
       "2                                [francisco_de, figueroa]\n",
       "3                                       [josefa_victoria]\n",
       "4                                  [zacharias, laudivius]\n",
       "5                               [paula_de_jesús_nazareno]\n",
       "                              ...                        \n",
       "9991                         [luis, tramoyeres_blasco, -]\n",
       "9992                            [josé_maría_de, rojas, -]\n",
       "9994                              [francisco, silvela, -]\n",
       "9994    [josé_maría_queipo_de_llano_ruiz_de_saravia, t...\n",
       "9998                                    [juan, valera, -]\n",
       "Name: Autor Personas, Length: 8172, dtype: object"
      ]
     },
     "execution_count": 132,
     "metadata": {},
     "output_type": "execute_result"
    }
   ],
   "source": [
    "def treat_whitespaces(l):\n",
    "    for i in range(len(l)):\n",
    "        l[i] = re.sub(\"^\\ +\", \"\", l[i])\n",
    "        l[i] = re.sub(\"\\ +$\", \"\", l[i])\n",
    "        l[i] = re.sub(\n",
    "            \" \", \"_\", l[i]\n",
    "        )  # substitute the remaining whitespaces with _: de lucia -> de_lucia\n",
    "    return l\n",
    "\n",
    "df['Autor Personas'] = df['Autor Personas'].apply(lambda x: treat_whitespaces(x))\n",
    "df['Autor Personas']"
   ]
  },
  {
   "cell_type": "markdown",
   "metadata": {},
   "source": [
    "Ahora unimos el nombre apellido y titulo usando barra bajas"
   ]
  },
  {
   "cell_type": "code",
   "execution_count": 133,
   "metadata": {},
   "outputs": [
    {
     "data": {
      "text/plain": [
       "0                      santo_isidoro_arzobispo_de_sevilla\n",
       "2                                   francisco_de_figueroa\n",
       "3                                         josefa_victoria\n",
       "4                                     zacharias_laudivius\n",
       "5                                 paula_de_jesús_nazareno\n",
       "                              ...                        \n",
       "9991                             luis_tramoyeres_blasco_-\n",
       "9992                                josé_maría_de_rojas_-\n",
       "9994                                  francisco_silvela_-\n",
       "9994    josé_maría_queipo_de_llano_ruiz_de_saravia_tor...\n",
       "9998                                        juan_valera_-\n",
       "Name: Autor Personas, Length: 8172, dtype: object"
      ]
     },
     "execution_count": 133,
     "metadata": {},
     "output_type": "execute_result"
    }
   ],
   "source": [
    "df['Autor Personas'] = df['Autor Personas'].apply(lambda x: \"_\".join(x))\n",
    "df['Autor Personas']"
   ]
  },
  {
   "cell_type": "markdown",
   "metadata": {},
   "source": [
    "Quitamos los acentos"
   ]
  },
  {
   "cell_type": "code",
   "execution_count": 134,
   "metadata": {},
   "outputs": [
    {
     "data": {
      "text/plain": [
       "0                      santo_isidoro_arzobispo_de_sevilla\n",
       "2                                   francisco_de_figueroa\n",
       "3                                         josefa_victoria\n",
       "4                                     zacharias_laudivius\n",
       "5                                 paula_de_jesus_nazareno\n",
       "                              ...                        \n",
       "9991                             luis_tramoyeres_blasco_-\n",
       "9992                                jose_maria_de_rojas_-\n",
       "9994                                  francisco_silvela_-\n",
       "9994    jose_maria_queipo_de_llano_ruiz_de_saravia_tor...\n",
       "9998                                        juan_valera_-\n",
       "Name: Autor Personas, Length: 8172, dtype: object"
      ]
     },
     "execution_count": 134,
     "metadata": {},
     "output_type": "execute_result"
    }
   ],
   "source": [
    "import unicodedata\n",
    "\n",
    "def strip_accents(s):\n",
    "    # https://stackoverflow.com/questions/517923/what-is-the-best-way-to-remove-accents-normalize-in-a-python-unicode-string\n",
    "    return \"\".join(\n",
    "        c for c in unicodedata.normalize(\"NFD\", s) if unicodedata.category(c) != \"Mn\"\n",
    "    )\n",
    "\n",
    "df['Autor Personas'] = df['Autor Personas'].apply(lambda x: strip_accents(x))\n",
    "df['Autor Personas']"
   ]
  },
  {
   "cell_type": "markdown",
   "metadata": {},
   "source": [
    "Limpiamos los nombres de nuevo para dejar solo caracteres del alfabeto y barra bajas"
   ]
  },
  {
   "cell_type": "code",
   "execution_count": 135,
   "metadata": {},
   "outputs": [
    {
     "data": {
      "text/plain": [
       "0                      santo_isidoro_arzobispo_de_sevilla\n",
       "2                                   francisco_de_figueroa\n",
       "3                                         josefa_victoria\n",
       "4                                     zacharias_laudivius\n",
       "5                                 paula_de_jesus_nazareno\n",
       "                              ...                        \n",
       "9991                              luis_tramoyeres_blasco_\n",
       "9992                                 jose_maria_de_rojas_\n",
       "9994                                   francisco_silvela_\n",
       "9994    jose_maria_queipo_de_llano_ruiz_de_saravia_tor...\n",
       "9998                                         juan_valera_\n",
       "Name: Autor Personas, Length: 8172, dtype: object"
      ]
     },
     "execution_count": 135,
     "metadata": {},
     "output_type": "execute_result"
    }
   ],
   "source": [
    "def keep_chars_and_separator(s):\n",
    "    return re.sub(\"[^a-zA-Z_]\", \"\", s)\n",
    "\n",
    "df['Autor Personas'] = df['Autor Personas'].apply(lambda x: keep_chars_and_separator(x))\n",
    "df['Autor Personas']"
   ]
  },
  {
   "cell_type": "markdown",
   "metadata": {},
   "source": [
    "Quedan algunas barra bajas al principio y al final de algunos nombre. Nos aseguramos de quitarlas"
   ]
  },
  {
   "cell_type": "code",
   "execution_count": 136,
   "metadata": {},
   "outputs": [
    {
     "data": {
      "text/plain": [
       "0                      santo_isidoro_arzobispo_de_sevilla\n",
       "2                                   francisco_de_figueroa\n",
       "3                                         josefa_victoria\n",
       "4                                     zacharias_laudivius\n",
       "5                                 paula_de_jesus_nazareno\n",
       "                              ...                        \n",
       "9991                               luis_tramoyeres_blasco\n",
       "9992                                  jose_maria_de_rojas\n",
       "9994                                    francisco_silvela\n",
       "9994    jose_maria_queipo_de_llano_ruiz_de_saravia_tor...\n",
       "9998                                          juan_valera\n",
       "Name: Autor Personas, Length: 8172, dtype: object"
      ]
     },
     "execution_count": 136,
     "metadata": {},
     "output_type": "execute_result"
    }
   ],
   "source": [
    "def clean_start_and_end(s):\n",
    "    s = re.sub(\"^_\", \"\", s)\n",
    "    s =re.sub(\"_$\", \"\", s)\n",
    "    return s\n",
    "\n",
    "df['Autor Personas'] = df['Autor Personas'].apply(lambda x: clean_start_and_end(x))\n",
    "df['Autor Personas']"
   ]
  },
  {
   "cell_type": "markdown",
   "metadata": {},
   "source": [
    "Puede que algunos nombres sean NaN despues del proceso de limpieza"
   ]
  },
  {
   "cell_type": "code",
   "execution_count": 137,
   "metadata": {},
   "outputs": [],
   "source": [
    "df = df[df['Autor Personas'].notna()] "
   ]
  }
 ],
 "metadata": {
  "kernelspec": {
   "display_name": "Python 3.9.13 ('tfm')",
   "language": "python",
   "name": "python3"
  },
  "language_info": {
   "codemirror_mode": {
    "name": "ipython",
    "version": 3
   },
   "file_extension": ".py",
   "mimetype": "text/x-python",
   "name": "python",
   "nbconvert_exporter": "python",
   "pygments_lexer": "ipython3",
   "version": "3.9.13"
  },
  "orig_nbformat": 4,
  "vscode": {
   "interpreter": {
    "hash": "13db4dd528affd078536932c2e17dd20ef6a9cd518531ae693e8e4fb859e4a68"
   }
  }
 },
 "nbformat": 4,
 "nbformat_minor": 2
}
